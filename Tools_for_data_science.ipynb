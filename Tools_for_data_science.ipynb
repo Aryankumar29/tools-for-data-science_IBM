{
 "cells": [
  {
   "cell_type": "markdown",
   "metadata": {
    "collapsed": true
   },
   "source": [
    "# My Jupyter Notebook on IBM Watson Studio"
   ]
  },
  {
   "cell_type": "markdown",
   "metadata": {},
   "source": [
    "#### Aryan kumar \n",
    "Hello, I am a student currently pursuing B. tech from Indian Institute of Technology Bombay."
   ]
  },
  {
   "cell_type": "markdown",
   "metadata": {},
   "source": [
    "*I am Interested in data science because it forund it very exciting and it gives me opportunity to develop an approach towards a prroblem*  "
   ]
  },
  {
   "cell_type": "markdown",
   "metadata": {},
   "source": [
    "###  In cell 5, my code has two integers, it subracts the sum of two integers from their product"
   ]
  },
  {
   "cell_type": "code",
   "execution_count": 5,
   "metadata": {},
   "outputs": [
    {
     "name": "stdout",
     "output_type": "stream",
     "text": [
      "19\n"
     ]
    }
   ],
   "source": [
    "a= 6\n",
    "b= 5\n",
    "c= a*b - (a+b)\n",
    "print(c)"
   ]
  },
  {
   "cell_type": "markdown",
   "metadata": {},
   "source": [
    "### Bulleted list\n",
    "\n",
    "* First item\n",
    "* second item\n",
    "* third item\n",
    "\n",
    "### Numbered List\n",
    "\n",
    "1. First item\n",
    "2. second item\n",
    "3. third item\n",
    "\n",
    "### horizontal rules\n",
    "\n",
    "***\n",
    "\n",
    "or\n",
    "\n",
    "_______\n",
    "\n",
    "### hperlinks\n",
    " \n",
    "[text to be clicked](url of the hyperlink)\n",
    "\n"
   ]
  },
  {
   "cell_type": "code",
   "execution_count": null,
   "metadata": {},
   "outputs": [],
   "source": []
  }
 ],
 "metadata": {
  "kernelspec": {
   "display_name": "Python 3.10",
   "language": "python",
   "name": "python3"
  },
  "language_info": {
   "codemirror_mode": {
    "name": "ipython",
    "version": 3
   },
   "file_extension": ".py",
   "mimetype": "text/x-python",
   "name": "python",
   "nbconvert_exporter": "python",
   "pygments_lexer": "ipython3",
   "version": "3.10.9"
  }
 },
 "nbformat": 4,
 "nbformat_minor": 1
}
